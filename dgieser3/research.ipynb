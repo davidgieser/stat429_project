{
 "cells": [
  {
   "cell_type": "code",
   "execution_count": null,
   "metadata": {},
   "outputs": [],
   "source": [
    "import sys\n",
    "import os\n",
    "import importlib\n",
    "import pandas as pd\n",
    "import matplotlib.pyplot as plt\n",
    "import numpy as np\n",
    "from datetime import datetime, timedelta\n",
    "\n",
    "parent_dir = os.path.dirname(os.path.abspath(''))\n",
    "sys.path.append(parent_dir)\n",
    "\n",
    "import data_import\n",
    "importlib.reload(data_import)\n",
    "\n",
    "TARDIS_TYPE = 'derivative_ticker'\n",
    "INSTRUMENT = 'btcusdt'\n",
    "START = '2020-01-01'\n",
    "END = '2024-10-18'\n",
    "EXCHANGE = 'binance-futures'\n",
    "\n",
    "all_data = data_import.normalize_tardis_data(EXCHANGE, TARDIS_TYPE, START, END, INSTRUMENT, parent_dir)"
   ]
  },
  {
   "cell_type": "code",
   "execution_count": 34,
   "metadata": {},
   "outputs": [],
   "source": [
    "def data_save(data):\n",
    "    \"\"\"\n",
    "    Save the data to a csv and reinstate the timestamp column.\n",
    "    \"\"\"\n",
    "    df = data.copy()\n",
    "\n",
    "    data_start = datetime(2020, 1, 1)\n",
    "\n",
    "    df['timestamp'] = (data_start + (df.index * timedelta(hours=1))).astype('int64')\n",
    "    df.to_csv(\"../normalized_datasets/binance_btc_perp.csv\", index=False)\n",
    "\n",
    "data_save(all_data)"
   ]
  },
  {
   "cell_type": "code",
   "execution_count": null,
   "metadata": {},
   "outputs": [],
   "source": [
    "import graph as gp\n",
    "\n",
    "df = pd.read_csv(\"../normalized_datasets/binance_btc_perp.csv\")\n",
    "display(df.head())\n",
    "gp.plot_funding_rate(df)"
   ]
  }
 ],
 "metadata": {
  "kernelspec": {
   "display_name": "stat429_env",
   "language": "python",
   "name": "python3"
  },
  "language_info": {
   "codemirror_mode": {
    "name": "ipython",
    "version": 3
   },
   "file_extension": ".py",
   "mimetype": "text/x-python",
   "name": "python",
   "nbconvert_exporter": "python",
   "pygments_lexer": "ipython3",
   "version": "3.10.7"
  }
 },
 "nbformat": 4,
 "nbformat_minor": 2
}
