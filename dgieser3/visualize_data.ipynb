{
 "cells": [
  {
   "cell_type": "code",
   "execution_count": 7,
   "metadata": {},
   "outputs": [],
   "source": [
    "import sys\n",
    "import os\n",
    "import importlib\n",
    "import pandas as pd\n",
    "import matplotlib.pyplot as plt\n",
    "\n",
    "parent_dir = os.path.dirname(os.path.abspath(''))\n",
    "sys.path.append(parent_dir)\n",
    "\n",
    "import data_import\n",
    "importlib.reload(data_import)\n",
    "\n",
    "TARDIS_TYPE = 'derivative_ticker'\n",
    "INSTRUMENT = 'btcusdt'\n",
    "START = '2023-01-01'\n",
    "END = '2023-02-01'\n",
    "EXCHANGE = 'binance-futures'\n",
    "\n",
    "all_data = data_import.load_data(EXCHANGE, TARDIS_TYPE, START, END, INSTRUMENT, parent_dir)"
   ]
  },
  {
   "cell_type": "code",
   "execution_count": null,
   "metadata": {},
   "outputs": [],
   "source": [
    "all_data.head()\n",
    "print(len(all_data))"
   ]
  },
  {
   "cell_type": "code",
   "execution_count": null,
   "metadata": {},
   "outputs": [],
   "source": [
    "import graph as gp\n",
    "\n",
    "gp.plot_funding_rate(all_data)"
   ]
  }
 ],
 "metadata": {
  "kernelspec": {
   "display_name": "stat429_env",
   "language": "python",
   "name": "python3"
  },
  "language_info": {
   "codemirror_mode": {
    "name": "ipython",
    "version": 3
   },
   "file_extension": ".py",
   "mimetype": "text/x-python",
   "name": "python",
   "nbconvert_exporter": "python",
   "pygments_lexer": "ipython3",
   "version": "3.10.7"
  }
 },
 "nbformat": 4,
 "nbformat_minor": 2
}
